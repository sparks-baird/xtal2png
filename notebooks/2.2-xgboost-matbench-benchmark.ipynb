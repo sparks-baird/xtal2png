{
  "cells": [
    {
      "cell_type": "markdown",
      "id": "minor-joint",
      "metadata": {
        "id": "minor-joint"
      },
      "source": [
        "# XGBoost regression for `matbench_mp_e_form` task using basic crystallographic features\n",
        "###### Created April 1, 2021\n",
        "\n",
        "![logo](https://github.com/materialsproject/matbench/blob/main/benchmarks/matbench_v0.1_dummy/matbench_logo.png?raw=1)\n",
        "\n",
        "\n",
        "## Description\n",
        "###### Give a brief overview of this notebook and your algorithm.\n",
        "\n",
        "This directory is an example of a matbench submission, which should be made via pull-request (PR). This also is a minimum working example of how to use the matbench python package to run, record, and submit benchmarks with nested cross validation.\n",
        "\n",
        "The benchmark used here is the original Matbench v0.1, as described in [Dunn et al.](https://doi.org/10.1038/s41524-020-00406-3).\n",
        "\n",
        "All submissions should include the following in a PR:\n",
        "- Description\n",
        "- Benchmark name\n",
        "- Package versions\n",
        "- Algorithm description\n",
        "- Relevant citations\n",
        "- Any other relevant info\n",
        "\n",
        "## Benchmark name\n",
        "###### Name the benchmark you are reporting results for.\n",
        "Matbench v0.1\n",
        "\n",
        "## Package versions\n",
        "###### List all versions of packages required to run your notebook, including the matbench version used.\n",
        "- matbench==0.1.0\n",
        "- scikit-learn==0.24.1\n",
        "- numpy==1.20.1\n",
        "\n",
        "## Algorithm description\n",
        "###### An in-depth explanation of your algorithm. \n",
        "###### Submissions are limited to one algorithm per notebook.\n",
        "The model here is a dummy (random) model as described in [Dunn et al.](https://doi.org/10.1038/s41524-020-00406-3).\n",
        "- Dummy classification model: randomly selects label in proportion to training+validation set. \n",
        "- Dummy regression model: predicts the mean of the training+validation set. \n",
        "\n",
        "\n",
        "## Relevant citations\n",
        "###### List all relevant citations for your algorithm\n",
        "- [Dunn et al.](https://doi.org/10.1038/s41524-020-00406-3)\n",
        "- Your model's other citations go here.\n",
        "\n",
        "\n",
        "## Any other relevant info\n",
        "###### Freeform field to include any other relevant info about this notebook, your benchmark, or your PR submission.\n",
        "\n",
        "---\n",
        "\n",
        "\n",
        "General notes on notebooks:\n",
        "- Please provide a short description for each code block, either\n",
        "    - in markdown, as a separate cell\n",
        "    - as inline comments\n",
        "- Keep the output of each cell in the final notebook\n",
        "- **The notebook must be named `notebook.ipynb`**!"
      ]
    },
    {
      "cell_type": "code",
      "execution_count": 1,
      "id": "certified-isaac",
      "metadata": {
        "colab": {
          "base_uri": "https://localhost:8080/",
          "height": 1000
        },
        "id": "certified-isaac",
        "outputId": "701f680b-e789-46ea-f06d-dbfebc79cc8d"
      },
      "outputs": [
        {
          "name": "stdout",
          "output_type": "stream",
          "text": [
            "Looking in indexes: https://pypi.org/simple, https://us-python.pkg.dev/colab-wheels/public/simple/\n",
            "Collecting matbench\n",
            "  Downloading matbench-0.5-py3-none-any.whl (9.9 MB)\n",
            "\u001b[K     |████████████████████████████████| 9.9 MB 2.9 MB/s \n",
            "\u001b[?25hRequirement already satisfied: xgboost in /usr/local/lib/python3.7/dist-packages (0.90)\n",
            "Collecting matminer==0.7.4\n",
            "  Downloading matminer-0.7.4-py3-none-any.whl (1.4 MB)\n",
            "\u001b[K     |████████████████████████████████| 1.4 MB 14.5 MB/s \n",
            "\u001b[?25hCollecting monty==2021.8.17\n",
            "  Downloading monty-2021.8.17-py3-none-any.whl (65 kB)\n",
            "\u001b[K     |████████████████████████████████| 65 kB 886 kB/s \n",
            "\u001b[?25hCollecting scikit-learn==1.0\n",
            "  Downloading scikit_learn-1.0-cp37-cp37m-manylinux_2_12_x86_64.manylinux2010_x86_64.whl (23.1 MB)\n",
            "\u001b[K     |████████████████████████████████| 23.1 MB 6.4 MB/s \n",
            "\u001b[?25hRequirement already satisfied: pandas>=1.3.1 in /usr/local/lib/python3.7/dist-packages (from matminer==0.7.4->matbench) (1.3.5)\n",
            "Requirement already satisfied: pymongo>=3.12.0 in /usr/local/lib/python3.7/dist-packages (from matminer==0.7.4->matbench) (4.1.1)\n",
            "Collecting pint>=0.17\n",
            "  Downloading Pint-0.18-py2.py3-none-any.whl (209 kB)\n",
            "\u001b[K     |████████████████████████████████| 209 kB 45.7 MB/s \n",
            "\u001b[?25hCollecting pymatgen>=2022.0.11\n",
            "  Downloading pymatgen-2022.0.17.tar.gz (40.6 MB)\n",
            "\u001b[K     |████████████████████████████████| 40.6 MB 1.3 MB/s \n",
            "\u001b[?25h  Installing build dependencies ... \u001b[?25l\u001b[?25hdone\n",
            "  Getting requirements to build wheel ... \u001b[?25l\u001b[?25hdone\n",
            "  Installing backend dependencies ... \u001b[?25l\u001b[?25hdone\n",
            "    Preparing wheel metadata ... \u001b[?25l\u001b[?25hdone\n",
            "Collecting future>=0.18.2\n",
            "  Downloading future-0.18.2.tar.gz (829 kB)\n",
            "\u001b[K     |████████████████████████████████| 829 kB 50.5 MB/s \n",
            "\u001b[?25hRequirement already satisfied: jsonschema>=3.2.0 in /usr/local/lib/python3.7/dist-packages (from matminer==0.7.4->matbench) (4.3.3)\n",
            "Requirement already satisfied: tqdm>=4.62.0 in /usr/local/lib/python3.7/dist-packages (from matminer==0.7.4->matbench) (4.64.0)\n",
            "Collecting six>=1.16.0\n",
            "  Downloading six-1.16.0-py2.py3-none-any.whl (11 kB)\n",
            "Requirement already satisfied: numpy>=1.21.1 in /usr/local/lib/python3.7/dist-packages (from matminer==0.7.4->matbench) (1.21.6)\n",
            "Collecting sympy>=1.8\n",
            "  Downloading sympy-1.10.1-py3-none-any.whl (6.4 MB)\n",
            "\u001b[K     |████████████████████████████████| 6.4 MB 50.3 MB/s \n",
            "\u001b[?25hCollecting requests>=2.26.0\n",
            "  Downloading requests-2.28.0-py3-none-any.whl (62 kB)\n",
            "\u001b[K     |████████████████████████████████| 62 kB 1.7 MB/s \n",
            "\u001b[?25hRequirement already satisfied: scipy>=1.1.0 in /usr/local/lib/python3.7/dist-packages (from scikit-learn==1.0->matbench) (1.4.1)\n",
            "Requirement already satisfied: joblib>=0.11 in /usr/local/lib/python3.7/dist-packages (from scikit-learn==1.0->matbench) (1.1.0)\n",
            "Requirement already satisfied: threadpoolctl>=2.0.0 in /usr/local/lib/python3.7/dist-packages (from scikit-learn==1.0->matbench) (3.1.0)\n",
            "Requirement already satisfied: attrs>=17.4.0 in /usr/local/lib/python3.7/dist-packages (from jsonschema>=3.2.0->matminer==0.7.4->matbench) (21.4.0)\n",
            "Requirement already satisfied: importlib-resources>=1.4.0 in /usr/local/lib/python3.7/dist-packages (from jsonschema>=3.2.0->matminer==0.7.4->matbench) (5.7.1)\n",
            "Requirement already satisfied: typing-extensions in /usr/local/lib/python3.7/dist-packages (from jsonschema>=3.2.0->matminer==0.7.4->matbench) (4.2.0)\n",
            "Requirement already satisfied: pyrsistent!=0.17.0,!=0.17.1,!=0.17.2,>=0.14.0 in /usr/local/lib/python3.7/dist-packages (from jsonschema>=3.2.0->matminer==0.7.4->matbench) (0.18.1)\n",
            "Requirement already satisfied: importlib-metadata in /usr/local/lib/python3.7/dist-packages (from jsonschema>=3.2.0->matminer==0.7.4->matbench) (4.11.4)\n",
            "Requirement already satisfied: zipp>=3.1.0 in /usr/local/lib/python3.7/dist-packages (from importlib-resources>=1.4.0->jsonschema>=3.2.0->matminer==0.7.4->matbench) (3.8.0)\n",
            "Requirement already satisfied: python-dateutil>=2.7.3 in /usr/local/lib/python3.7/dist-packages (from pandas>=1.3.1->matminer==0.7.4->matbench) (2.8.2)\n",
            "Requirement already satisfied: pytz>=2017.3 in /usr/local/lib/python3.7/dist-packages (from pandas>=1.3.1->matminer==0.7.4->matbench) (2022.1)\n",
            "Requirement already satisfied: packaging in /usr/local/lib/python3.7/dist-packages (from pint>=0.17->matminer==0.7.4->matbench) (21.3)\n",
            "Collecting scipy>=1.1.0\n",
            "  Downloading scipy-1.7.3-cp37-cp37m-manylinux_2_12_x86_64.manylinux2010_x86_64.whl (38.1 MB)\n",
            "\u001b[K     |████████████████████████████████| 38.1 MB 1.2 MB/s \n",
            "\u001b[?25hRequirement already satisfied: palettable>=3.1.1 in /usr/local/lib/python3.7/dist-packages (from pymatgen>=2022.0.11->matminer==0.7.4->matbench) (3.3.0)\n",
            "Requirement already satisfied: plotly>=4.5.0 in /usr/local/lib/python3.7/dist-packages (from pymatgen>=2022.0.11->matminer==0.7.4->matbench) (5.5.0)\n",
            "Collecting uncertainties>=3.1.4\n",
            "  Downloading uncertainties-3.1.6-py2.py3-none-any.whl (98 kB)\n",
            "\u001b[K     |████████████████████████████████| 98 kB 6.9 MB/s \n",
            "\u001b[?25hRequirement already satisfied: tabulate in /usr/local/lib/python3.7/dist-packages (from pymatgen>=2022.0.11->matminer==0.7.4->matbench) (0.8.9)\n",
            "Requirement already satisfied: networkx>=2.2 in /usr/local/lib/python3.7/dist-packages (from pymatgen>=2022.0.11->matminer==0.7.4->matbench) (2.6.3)\n",
            "Collecting spglib>=1.9.9.44\n",
            "  Downloading spglib-1.16.5-cp37-cp37m-manylinux_2_17_x86_64.manylinux2014_x86_64.whl (325 kB)\n",
            "\u001b[K     |████████████████████████████████| 325 kB 59.9 MB/s \n",
            "\u001b[?25hRequirement already satisfied: matplotlib>=1.5 in /usr/local/lib/python3.7/dist-packages (from pymatgen>=2022.0.11->matminer==0.7.4->matbench) (3.2.2)\n",
            "Collecting ruamel.yaml>=0.15.6\n",
            "  Downloading ruamel.yaml-0.17.21-py3-none-any.whl (109 kB)\n",
            "\u001b[K     |████████████████████████████████| 109 kB 58.5 MB/s \n",
            "\u001b[?25hRequirement already satisfied: kiwisolver>=1.0.1 in /usr/local/lib/python3.7/dist-packages (from matplotlib>=1.5->pymatgen>=2022.0.11->matminer==0.7.4->matbench) (1.4.2)\n",
            "Requirement already satisfied: cycler>=0.10 in /usr/local/lib/python3.7/dist-packages (from matplotlib>=1.5->pymatgen>=2022.0.11->matminer==0.7.4->matbench) (0.11.0)\n",
            "Requirement already satisfied: pyparsing!=2.0.4,!=2.1.2,!=2.1.6,>=2.0.1 in /usr/local/lib/python3.7/dist-packages (from matplotlib>=1.5->pymatgen>=2022.0.11->matminer==0.7.4->matbench) (3.0.9)\n",
            "Requirement already satisfied: tenacity>=6.2.0 in /usr/local/lib/python3.7/dist-packages (from plotly>=4.5.0->pymatgen>=2022.0.11->matminer==0.7.4->matbench) (8.0.1)\n",
            "Requirement already satisfied: charset-normalizer~=2.0.0 in /usr/local/lib/python3.7/dist-packages (from requests>=2.26.0->matminer==0.7.4->matbench) (2.0.12)\n",
            "Requirement already satisfied: certifi>=2017.4.17 in /usr/local/lib/python3.7/dist-packages (from requests>=2.26.0->matminer==0.7.4->matbench) (2022.5.18.1)\n",
            "Requirement already satisfied: urllib3<1.27,>=1.21.1 in /usr/local/lib/python3.7/dist-packages (from requests>=2.26.0->matminer==0.7.4->matbench) (1.24.3)\n",
            "Requirement already satisfied: idna<4,>=2.5 in /usr/local/lib/python3.7/dist-packages (from requests>=2.26.0->matminer==0.7.4->matbench) (2.10)\n",
            "Collecting ruamel.yaml.clib>=0.2.6\n",
            "  Downloading ruamel.yaml.clib-0.2.6-cp37-cp37m-manylinux1_x86_64.whl (546 kB)\n",
            "\u001b[K     |████████████████████████████████| 546 kB 49.5 MB/s \n",
            "\u001b[?25hRequirement already satisfied: mpmath>=0.19 in /usr/local/lib/python3.7/dist-packages (from sympy>=1.8->matminer==0.7.4->matbench) (1.2.1)\n",
            "Building wheels for collected packages: future, pymatgen\n",
            "  Building wheel for future (setup.py) ... \u001b[?25l\u001b[?25hdone\n",
            "  Created wheel for future: filename=future-0.18.2-py3-none-any.whl size=491070 sha256=9d5ea7315ad5a4caa7e03026756b57d4dd3f27f0bef7b8a7414ea288b2a0dbfe\n",
            "  Stored in directory: /root/.cache/pip/wheels/56/b0/fe/4410d17b32f1f0c3cf54cdfb2bc04d7b4b8f4ae377e2229ba0\n",
            "  Building wheel for pymatgen (PEP 517) ... \u001b[?25l\u001b[?25hdone\n",
            "  Created wheel for pymatgen: filename=pymatgen-2022.0.17-cp37-cp37m-linux_x86_64.whl size=41841052 sha256=0ed5b117c6a8e3b46d6a9afefe6ed3c570eefdf9158f3d034141b32d1141eb6b\n",
            "  Stored in directory: /root/.cache/pip/wheels/cf/f6/22/58a9be23c5f1b452770e02ff42047175eaf0f9c2f15219fc76\n",
            "Successfully built future pymatgen\n",
            "Installing collected packages: six, ruamel.yaml.clib, future, uncertainties, sympy, spglib, scipy, ruamel.yaml, requests, monty, scikit-learn, pymatgen, pint, matminer, matbench\n",
            "  Attempting uninstall: six\n",
            "    Found existing installation: six 1.15.0\n",
            "    Uninstalling six-1.15.0:\n",
            "      Successfully uninstalled six-1.15.0\n",
            "  Attempting uninstall: future\n",
            "    Found existing installation: future 0.16.0\n",
            "    Uninstalling future-0.16.0:\n",
            "      Successfully uninstalled future-0.16.0\n",
            "  Attempting uninstall: sympy\n",
            "    Found existing installation: sympy 1.7.1\n",
            "    Uninstalling sympy-1.7.1:\n",
            "      Successfully uninstalled sympy-1.7.1\n",
            "  Attempting uninstall: scipy\n",
            "    Found existing installation: scipy 1.4.1\n",
            "    Uninstalling scipy-1.4.1:\n",
            "      Successfully uninstalled scipy-1.4.1\n",
            "  Attempting uninstall: requests\n",
            "    Found existing installation: requests 2.23.0\n",
            "    Uninstalling requests-2.23.0:\n",
            "      Successfully uninstalled requests-2.23.0\n",
            "  Attempting uninstall: scikit-learn\n",
            "    Found existing installation: scikit-learn 1.0.2\n",
            "    Uninstalling scikit-learn-1.0.2:\n",
            "      Successfully uninstalled scikit-learn-1.0.2\n",
            "\u001b[31mERROR: pip's dependency resolver does not currently take into account all the packages that are installed. This behaviour is the source of the following dependency conflicts.\n",
            "google-colab 1.0.0 requires requests~=2.23.0, but you have requests 2.28.0 which is incompatible.\n",
            "google-colab 1.0.0 requires six~=1.15.0, but you have six 1.16.0 which is incompatible.\n",
            "datascience 0.10.6 requires folium==0.2.1, but you have folium 0.8.3 which is incompatible.\n",
            "albumentations 0.1.12 requires imgaug<0.2.7,>=0.2.5, but you have imgaug 0.2.9 which is incompatible.\u001b[0m\n",
            "Successfully installed future-0.18.2 matbench-0.5 matminer-0.7.4 monty-2021.8.17 pint-0.18 pymatgen-2022.0.17 requests-2.28.0 ruamel.yaml-0.17.21 ruamel.yaml.clib-0.2.6 scikit-learn-1.0 scipy-1.7.3 six-1.16.0 spglib-1.16.5 sympy-1.10.1 uncertainties-3.1.6\n"
          ]
        },
        {
          "data": {
            "application/vnd.colab-display-data+json": {
              "pip_warning": {
                "packages": [
                  "six"
                ]
              }
            }
          },
          "metadata": {},
          "output_type": "display_data"
        }
      ],
      "source": [
        "# Import our required libraries and classes\n",
        "%pip install matbench xgboost\n",
        "\n",
        "from matbench.bench import MatbenchBenchmark\n",
        "from sklearn.model_selection import train_test_split\n",
        "import xgboost as xgb\n",
        "import pandas as pd\n",
        "import numpy as np\n",
        "from typing import List, Optional, Sequence, Tuple, Union"
      ]
    },
    {
      "cell_type": "code",
      "execution_count": 2,
      "id": "-cfWlPVjCNzr",
      "metadata": {
        "id": "-cfWlPVjCNzr"
      },
      "outputs": [],
      "source": [
        "def training_model():\n",
        "  # Transfer train_inputs and train_outputs into a pandas DataFrame\n",
        "  X = pd.DataFrame(\n",
        "      {\n",
        "          \"a\": latt_a,\n",
        "          \"b\": latt_b,\n",
        "          \"c\":latt_c,\n",
        "          \"alpha\": alpha,\n",
        "          \"beta\": beta,\n",
        "          \"gamma\": gamma,\n",
        "          \"volume\": volume,\n",
        "          \"space_group\": space_group\n",
        "      },\n",
        "      # index=material_id\n",
        "  )\n",
        "  y = pd.Series(name=\"formation_energy\", data=formation_energy)\n",
        "\n",
        "  X=X[:-2]\n",
        "\n",
        "  train = xgb.DMatrix(X, label=y)\n",
        "\n",
        "  hyperparam = {\n",
        "      'max_depth': 4,\n",
        "      'learning_rate':0.05,\n",
        "      'n_estimators':1000,\n",
        "      'verbosity':1,\n",
        "      'booster':\"gbtree\",\n",
        "      'tree_method':\"auto\",\n",
        "      'n_jobs':1,\n",
        "      'gamma':0.0001,\n",
        "      'min_child_weight':8,\n",
        "      'max_delta_step':0,\n",
        "      'subsample':0.6,\n",
        "      'colsample_bytree':0.7,\n",
        "      'colsample_bynode':1,\n",
        "      'reg_alpha':0,\n",
        "      'reg_lambda':4,\n",
        "      'scale_pos_weight':1,\n",
        "      'base_score':0.6,\n",
        "      'num_parallel_tree':1,\n",
        "      'importance_type':\"gain\",\n",
        "      'eval_metric':\"rmse\",\n",
        "      'nthread':4 }\n",
        "\n",
        "  num_round = 100\n",
        "\n",
        "  # train and validate your model\n",
        "  my_model = xgb.train(hyperparam, train, num_round)\n",
        "  return my_model\n",
        "\n",
        "def testing_model():\n",
        "  # Create dataframe for test_inputs and test model\n",
        "  test_inputs = pd.DataFrame(\n",
        "    {\n",
        "        \"a\": t_latt_a,\n",
        "        \"b\": t_latt_b,\n",
        "        \"c\": t_latt_c,\n",
        "        \"alpha\": t_alpha,\n",
        "        \"beta\": t_beta,\n",
        "        \"gamma\": t_gamma,\n",
        "        \"volume\":t_volume,\n",
        "        \"space_group\": t_space_group\n",
        "    },\n",
        "  )\n",
        "\n",
        "  test = xgb.DMatrix(test_inputs)\n",
        "  return test"
      ]
    },
    {
      "cell_type": "markdown",
      "id": "mathematical-oliver",
      "metadata": {
        "id": "mathematical-oliver"
      },
      "source": [
        "## Running the actual benchmark\n",
        "\n",
        "Create a benchmark of the 13 original matbench v0.1 tasks, train a model on each fold for each task, and record the results with any salient metadata.\n",
        "\n"
      ]
    },
    {
      "cell_type": "code",
      "execution_count": 5,
      "id": "demonstrated-behalf",
      "metadata": {
        "colab": {
          "base_uri": "https://localhost:8080/"
        },
        "id": "demonstrated-behalf",
        "outputId": "04f1c5fc-0ed9-45e3-9223-fac9cf05f0ba"
      },
      "outputs": [
        {
          "name": "stdout",
          "output_type": "stream",
          "text": [
            "2022-06-10 22:23:12 INFO     Initialized benchmark 'matbench_v0.1' with 1 tasks: \n",
            "['matbench_mp_e_form']\n",
            "2022-06-10 22:23:12 INFO     Loading dataset 'matbench_mp_e_form'...\n",
            "2022-06-10 22:26:56 INFO     Dataset 'matbench_mp_e_form loaded.\n",
            "2022-06-10 22:39:05 INFO     Recorded fold matbench_mp_e_form-0 successfully.\n",
            "2022-06-10 22:51:13 INFO     Recorded fold matbench_mp_e_form-1 successfully.\n",
            "2022-06-10 23:03:22 INFO     Recorded fold matbench_mp_e_form-2 successfully.\n",
            "2022-06-10 23:15:32 INFO     Recorded fold matbench_mp_e_form-3 successfully.\n",
            "2022-06-10 23:27:40 INFO     Recorded fold matbench_mp_e_form-4 successfully.\n"
          ]
        }
      ],
      "source": [
        "# Create a benchmark\n",
        "mb = MatbenchBenchmark(autoload=False, subset=[\"matbench_mp_e_form\"])\n",
        "\n",
        "# Run our benchmark on xgboost model\n",
        "for task in mb.tasks:\n",
        "  task.load()\n",
        "\n",
        "  for fold in task.folds:\n",
        "    # Define lists and databases\n",
        "    latt_a: List[List[float]] = []\n",
        "    latt_b: List[List[float]] = []\n",
        "    latt_c: List[List[float]] = []\n",
        "    alpha: List[List[float]] = []\n",
        "    beta: List[List[float]] = []\n",
        "    gamma: List[List[float]] = []\n",
        "    volume: List[float] = []\n",
        "    space_group: List[int] = []\n",
        "\n",
        "    formation_energy: List[List[float]] = []\n",
        "\n",
        "    t_latt_a: List[List[float]] = []\n",
        "    t_latt_b: List[List[float]] = []\n",
        "    t_latt_c: List[List[float]] = []\n",
        "    t_alpha: List[List[float]] = []\n",
        "    t_beta: List[List[float]] = []\n",
        "    t_gamma: List[List[float]] = []\n",
        "    t_volume: List[float] = []\n",
        "    t_space_group: List[int] = []\n",
        "\n",
        "    # Get the training inputs (an array of pymatgen.Structure or string Compositions, e.g. \"Fe2O3\")\n",
        "    train_inputs, train_outputs = task.get_train_and_val_data(fold)\n",
        "\n",
        "    for i in range(len(train_inputs)):\n",
        "      latt_a.append(train_inputs.iloc[i]._lattice.a)\n",
        "      latt_b.append(train_inputs.iloc[i]._lattice.b)\n",
        "      latt_c.append(train_inputs.iloc[i]._lattice.c)\n",
        "      alpha.append(train_inputs.iloc[i]._lattice.angles[0])\n",
        "      beta.append(train_inputs.iloc[i]._lattice.angles[1])\n",
        "      gamma.append(train_inputs.iloc[i]._lattice.angles[2])\n",
        "      volume.append(train_inputs.iloc[i].volume)\n",
        "      space_group.append(train_inputs.iloc[i].get_space_group_info()[1])\n",
        "\n",
        "    # Get the training outputs (an array of either bools or floats, depending on problem)\n",
        "    for i in range(len(train_outputs)):\n",
        "      formation_energy.append(train_outputs.iloc[i])\n",
        "\n",
        "    # Do all model tuning and selection with the training data only\n",
        "    # The split of training/validation is up to you and your algorithm\n",
        "    # Transfer train_inputs and train_outputs into a pandas DataFrame\n",
        "    \n",
        "    X = pd.DataFrame(\n",
        "        {\n",
        "            \"a\": latt_a,\n",
        "            \"b\": latt_b,\n",
        "            \"c\":latt_c,\n",
        "            \"alpha\": alpha,\n",
        "            \"beta\": beta,\n",
        "            \"gamma\": gamma,\n",
        "            \"volume\": volume,\n",
        "            \"space_group\": space_group\n",
        "        },\n",
        "        # index=material_id\n",
        "    )\n",
        "    y = pd.Series(name=\"formation_energy\", data=formation_energy)\n",
        "\n",
        "    train = xgb.DMatrix(X, label=y)\n",
        "\n",
        "    hyperparam = {\n",
        "        'max_depth': 4,\n",
        "        'learning_rate':0.05,\n",
        "        'n_estimators':1000,\n",
        "        'verbosity':1,\n",
        "        'booster':\"gbtree\",\n",
        "        'tree_method':\"auto\",\n",
        "        'n_jobs':1,\n",
        "        'gamma':0.0001,\n",
        "        'min_child_weight':8,\n",
        "        'max_delta_step':0,\n",
        "        'subsample':0.6,\n",
        "        'colsample_bytree':0.7,\n",
        "        'colsample_bynode':1,\n",
        "        'reg_alpha':0,\n",
        "        'reg_lambda':4,\n",
        "        'scale_pos_weight':1,\n",
        "        'base_score':0.6,\n",
        "        'num_parallel_tree':1,\n",
        "        'importance_type':\"gain\",\n",
        "        'eval_metric':\"rmse\",\n",
        "        'nthread':4 }\n",
        "\n",
        "    num_round = 100\n",
        "\n",
        "    # train and validate your model\n",
        "    my_model = xgb.train(hyperparam, train, num_round)\n",
        "\n",
        "    # Get test data (an array of pymatgen.Structure or string compositions, e.g., \"Fe2O3\")\n",
        "    test_inputs_raw = task.get_test_data(fold, include_target=False)\n",
        "\n",
        "    for i in range(len(test_inputs_raw)):\n",
        "      t_latt_a.append(test_inputs_raw.iloc[i]._lattice.a)\n",
        "      t_latt_b.append(test_inputs_raw.iloc[i]._lattice.b)\n",
        "      t_latt_c.append(test_inputs_raw.iloc[i]._lattice.c)\n",
        "      t_alpha.append(test_inputs_raw.iloc[i]._lattice.angles[0])\n",
        "      t_beta.append(test_inputs_raw.iloc[i]._lattice.angles[1])\n",
        "      t_gamma.append(test_inputs_raw.iloc[i]._lattice.angles[2])\n",
        "      t_volume.append(test_inputs_raw.iloc[i].volume)\n",
        "      t_space_group.append(test_inputs_raw.iloc[i].get_space_group_info()[1])\n",
        "\n",
        "    test_inputs = pd.DataFrame(\n",
        "      {\n",
        "          \"a\": t_latt_a,\n",
        "          \"b\": t_latt_b,\n",
        "          \"c\": t_latt_c,\n",
        "          \"alpha\": t_alpha,\n",
        "          \"beta\": t_beta,\n",
        "          \"gamma\": t_gamma,\n",
        "          \"volume\":t_volume,\n",
        "          \"space_group\": t_space_group\n",
        "      },\n",
        "    )\n",
        "\n",
        "    test = xgb.DMatrix(test_inputs)\n",
        "\n",
        "    # Make predictions on the test data, returning an array of either bool or float, depending on problem\n",
        "    predictions = my_model.predict(test)\n",
        "\n",
        "    # Record our predictions into the benchmark object\n",
        "    # you can optionally add parameters corresponding to the particular model in this fold\n",
        "    # if particular hyperparameters or configurations are chosen based on training/validation\n",
        "    task.record(fold, predictions)"
      ]
    },
    {
      "cell_type": "code",
      "execution_count": null,
      "id": "x82VNxH1W47V",
      "metadata": {
        "id": "x82VNxH1W47V"
      },
      "outputs": [],
      "source": [
        "print(len(mb.tasks))"
      ]
    },
    {
      "cell_type": "code",
      "execution_count": 6,
      "id": "m8w4V1E9T2TG",
      "metadata": {
        "id": "m8w4V1E9T2TG"
      },
      "outputs": [],
      "source": [
        "import pickle\n",
        "\n",
        "model = pickle.dump(my_model, open(\"xgbmodel.dat\", \"wb\"))\n",
        "# model = pickle.load(open(\"xgbmodel.dat\", \"rb\"))"
      ]
    },
    {
      "cell_type": "markdown",
      "id": "parental-concept",
      "metadata": {
        "id": "parental-concept"
      },
      "source": [
        "## Check out the results of the benchmark\n",
        "\n",
        "First, validate the benchmark to make sure everything is ok - if you did not get any error messages during the recording process your benchmark results will almost certainly be valid. \n",
        "\n",
        "Next, get a feeling for how our benchmark is doing, in terms of MAE or ROCAUC, along with various other scores.\n",
        "\n",
        "Finally, add some metadata related to this benchmark, if applicable."
      ]
    },
    {
      "cell_type": "code",
      "execution_count": 7,
      "id": "strong-darwin",
      "metadata": {
        "colab": {
          "base_uri": "https://localhost:8080/"
        },
        "id": "strong-darwin",
        "outputId": "217cae3d-3e6d-44c6-8d3c-29d09d982e23"
      },
      "outputs": [
        {
          "name": "stdout",
          "output_type": "stream",
          "text": [
            "is valid: True\n",
            "{'matbench_mp_e_form': {'mae': {'max': 0.7559645762744662,\n",
            "                                'mean': 0.7514603730363221,\n",
            "                                'min': 0.7463943260812504,\n",
            "                                'std': 0.004167347004583424},\n",
            "                        'mape': {'max': 8.208108588940437,\n",
            "                                 'mean': 6.904368768866061,\n",
            "                                 'min': 4.8884393331071925,\n",
            "                                 'std': 1.323520300873098},\n",
            "                        'max_error': {'max': 4.242506746409874,\n",
            "                                      'mean': 4.057536813383573,\n",
            "                                      'min': 3.9335069535836924,\n",
            "                                      'std': 0.10426539042254096},\n",
            "                        'rmse': {'max': 0.9454158134116134,\n",
            "                                 'mean': 0.9414775887737938,\n",
            "                                 'min': 0.936303190895938,\n",
            "                                 'std': 0.0038121183426142904}}}\n",
            "2022-06-11 00:01:46 INFO     \n",
            "Matbench package 0.5 running benchmark 'matbench_v0.1'\n",
            "\tis complete: False\n",
            "\tis recorded: True\n",
            "\tis valid: True\n",
            "\n",
            "Results:\n",
            "\t- 'matbench_mp_e_form' MAE mean: 0.7514603730363221\n"
          ]
        }
      ],
      "source": [
        "# Make sure our benchmark is valid\n",
        "valid = mb.is_valid\n",
        "print(f\"is valid: {valid}\")\n",
        "\n",
        "\n",
        "# Check out how our algorithm is doing using scores\n",
        "import pprint\n",
        "pprint.pprint(mb.scores)\n",
        "\n",
        "# Get some more info about the benchmark\n",
        "mb.get_info()\n",
        "\n",
        "# Add some additional metadata about our algorithm\n",
        "# These sections are very freeform; any and all data you think are relevant to your benchmark\n",
        "# mb.add_metadata({\"regression_strategy\": \"mean\", \"algorithm\": \"dummy\"})"
      ]
    },
    {
      "cell_type": "markdown",
      "id": "furnished-polls",
      "metadata": {
        "id": "furnished-polls"
      },
      "source": [
        "## Save our benchmark to file\n",
        "\n",
        "Make sure you use the filename `results.json.gz` - this is important for our automated leaderboard to work properly!"
      ]
    },
    {
      "cell_type": "code",
      "execution_count": 8,
      "id": "3lixYCjQKJdJ",
      "metadata": {
        "colab": {
          "base_uri": "https://localhost:8080/"
        },
        "id": "3lixYCjQKJdJ",
        "outputId": "993ba670-e082-41ad-98f5-59c4fa3c75e7"
      },
      "outputs": [
        {
          "name": "stdout",
          "output_type": "stream",
          "text": [
            "Mounted at /content/drive\n"
          ]
        }
      ],
      "source": [
        "from google.colab import drive\n",
        "drive.mount('/content/drive')"
      ]
    },
    {
      "cell_type": "code",
      "execution_count": 9,
      "id": "considerable-spirit",
      "metadata": {
        "colab": {
          "base_uri": "https://localhost:8080/"
        },
        "id": "considerable-spirit",
        "outputId": "a74cb733-1716-43f7-f76e-845346bd3b28"
      },
      "outputs": [
        {
          "name": "stdout",
          "output_type": "stream",
          "text": [
            "2022-06-11 00:02:22 INFO     Successfully wrote MatbenchBenchmark to file '/content/drive/MyDrive/sparks-baird/xtal2png/results.json.gz'.\n"
          ]
        }
      ],
      "source": [
        "# Save the valid benchmark to file to include with your submission\n",
        "mb.to_file(\"/content/drive/MyDrive/sparks-baird/xtal2png/results.json.gz\")"
      ]
    },
    {
      "cell_type": "markdown",
      "id": "zgN8tAZGGLzA",
      "metadata": {
        "id": "zgN8tAZGGLzA"
      },
      "source": [
        "Citation:\n",
        "Dunn, A., Wang, Q., Ganose, A., Dopp, D., Jain, A. \n",
        "Benchmarking Materials Property Prediction Methods: \n",
        "The Matbench Test Set and Automatminer Reference Algorithm. \n",
        "npj Computational Materials 6, 138 (2020). \n",
        "https://doi.org/10.1038/s41524-020-00406-3\n"
      ]
    }
  ],
  "metadata": {
    "colab": {
      "collapsed_sections": [],
      "name": "xgboost_matbench_benchmark.ipynb",
      "provenance": []
    },
    "kernelspec": {
      "display_name": "Python 3",
      "language": "python",
      "name": "python3"
    },
    "language_info": {
      "codemirror_mode": {
        "name": "ipython",
        "version": 3
      },
      "file_extension": ".py",
      "mimetype": "text/x-python",
      "name": "python",
      "nbconvert_exporter": "python",
      "pygments_lexer": "ipython3",
      "version": "3.7.3"
    }
  },
  "nbformat": 4,
  "nbformat_minor": 5
}
