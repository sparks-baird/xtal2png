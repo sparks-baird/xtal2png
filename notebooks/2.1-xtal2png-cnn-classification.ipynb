{
  "cells": [
    {
      "cell_type": "markdown",
      "metadata": {
        "colab_type": "text",
        "id": "view-in-github"
      },
      "source": [
        "<a href=\"https://colab.research.google.com/github/sparks-baird/xtal2png/blob/main/2.1-xtal2png-cnn-classification.ipynb\" target=\"_parent\"><img src=\"https://colab.research.google.com/assets/colab-badge.svg\" alt=\"Open In Colab\"/></a>"
      ]
    },
    {
      "cell_type": "markdown",
      "metadata": {
        "id": "jBXNMZ6dj4-l"
      },
      "source": [
        "# `xtal2png` Convolutional Neural Network Classification\n",
        "\n",
        "Using Matbench task of `mp_is_metal`."
      ]
    },
    {
      "cell_type": "code",
      "execution_count": null,
      "metadata": {
        "colab": {
          "base_uri": "https://localhost:8080/"
        },
        "id": "FEfNV6at0YcX",
        "outputId": "a9bb4913-3a2a-4a4a-9097-3395d2f52b52"
      },
      "outputs": [
        {
          "name": "stdout",
          "output_type": "stream",
          "text": [
            "Looking in indexes: https://pypi.org/simple, https://us-python.pkg.dev/colab-wheels/public/simple/\n",
            "Requirement already satisfied: skorch in /usr/local/lib/python3.7/dist-packages (0.11.0)\n",
            "Requirement already satisfied: xtal2png in /usr/local/lib/python3.7/dist-packages (0.7.0)\n",
            "Requirement already satisfied: matbench in /usr/local/lib/python3.7/dist-packages (0.5)\n",
            "Requirement already satisfied: pytorch-lightning in /usr/local/lib/python3.7/dist-packages (1.6.4)\n",
            "Requirement already satisfied: tqdm>=4.14.0 in /usr/local/lib/python3.7/dist-packages (from skorch) (4.64.0)\n",
            "Requirement already satisfied: numpy>=1.13.3 in /usr/local/lib/python3.7/dist-packages (from skorch) (1.21.6)\n",
            "Requirement already satisfied: tabulate>=0.7.7 in /usr/local/lib/python3.7/dist-packages (from skorch) (0.8.9)\n",
            "Requirement already satisfied: scipy>=1.1.0 in /usr/local/lib/python3.7/dist-packages (from skorch) (1.7.3)\n",
            "Requirement already satisfied: scikit-learn>=0.19.1 in /usr/local/lib/python3.7/dist-packages (from skorch) (1.0)\n",
            "Requirement already satisfied: joblib>=0.11 in /usr/local/lib/python3.7/dist-packages (from scikit-learn>=0.19.1->skorch) (1.1.0)\n",
            "Requirement already satisfied: threadpoolctl>=2.0.0 in /usr/local/lib/python3.7/dist-packages (from scikit-learn>=0.19.1->skorch) (3.1.0)\n",
            "Requirement already satisfied: kaleido in /usr/local/lib/python3.7/dist-packages (from xtal2png) (0.2.1)\n",
            "Requirement already satisfied: plotly in /usr/local/lib/python3.7/dist-packages (from xtal2png) (5.5.0)\n",
            "Requirement already satisfied: pymatgen in /usr/local/lib/python3.7/dist-packages (from xtal2png) (2022.0.17)\n",
            "Requirement already satisfied: pillow in /usr/local/lib/python3.7/dist-packages (from xtal2png) (7.1.2)\n",
            "Requirement already satisfied: importlib-metadata in /usr/local/lib/python3.7/dist-packages (from xtal2png) (4.11.4)\n",
            "Requirement already satisfied: monty==2021.8.17 in /usr/local/lib/python3.7/dist-packages (from matbench) (2021.8.17)\n",
            "Requirement already satisfied: matminer==0.7.4 in /usr/local/lib/python3.7/dist-packages (from matbench) (0.7.4)\n",
            "Requirement already satisfied: pymongo>=3.12.0 in /usr/local/lib/python3.7/dist-packages (from matminer==0.7.4->matbench) (4.1.1)\n",
            "Requirement already satisfied: future>=0.18.2 in /usr/local/lib/python3.7/dist-packages (from matminer==0.7.4->matbench) (0.18.2)\n",
            "Requirement already satisfied: sympy>=1.8 in /usr/local/lib/python3.7/dist-packages (from matminer==0.7.4->matbench) (1.10.1)\n",
            "Requirement already satisfied: jsonschema>=3.2.0 in /usr/local/lib/python3.7/dist-packages (from matminer==0.7.4->matbench) (4.3.3)\n",
            "Requirement already satisfied: six>=1.16.0 in /usr/local/lib/python3.7/dist-packages (from matminer==0.7.4->matbench) (1.16.0)\n",
            "Requirement already satisfied: pint>=0.17 in /usr/local/lib/python3.7/dist-packages (from matminer==0.7.4->matbench) (0.18)\n",
            "Requirement already satisfied: pandas>=1.3.1 in /usr/local/lib/python3.7/dist-packages (from matminer==0.7.4->matbench) (1.3.5)\n",
            "Requirement already satisfied: requests>=2.26.0 in /usr/local/lib/python3.7/dist-packages (from matminer==0.7.4->matbench) (2.28.0)\n",
            "Requirement already satisfied: typing-extensions in /usr/local/lib/python3.7/dist-packages (from jsonschema>=3.2.0->matminer==0.7.4->matbench) (4.1.1)\n",
            "Requirement already satisfied: pyrsistent!=0.17.0,!=0.17.1,!=0.17.2,>=0.14.0 in /usr/local/lib/python3.7/dist-packages (from jsonschema>=3.2.0->matminer==0.7.4->matbench) (0.18.1)\n",
            "Requirement already satisfied: importlib-resources>=1.4.0 in /usr/local/lib/python3.7/dist-packages (from jsonschema>=3.2.0->matminer==0.7.4->matbench) (5.7.1)\n",
            "Requirement already satisfied: attrs>=17.4.0 in /usr/local/lib/python3.7/dist-packages (from jsonschema>=3.2.0->matminer==0.7.4->matbench) (21.4.0)\n",
            "Requirement already satisfied: zipp>=3.1.0 in /usr/local/lib/python3.7/dist-packages (from importlib-resources>=1.4.0->jsonschema>=3.2.0->matminer==0.7.4->matbench) (3.8.0)\n",
            "Requirement already satisfied: pytz>=2017.3 in /usr/local/lib/python3.7/dist-packages (from pandas>=1.3.1->matminer==0.7.4->matbench) (2022.1)\n",
            "Requirement already satisfied: python-dateutil>=2.7.3 in /usr/local/lib/python3.7/dist-packages (from pandas>=1.3.1->matminer==0.7.4->matbench) (2.8.2)\n",
            "Requirement already satisfied: packaging in /usr/local/lib/python3.7/dist-packages (from pint>=0.17->matminer==0.7.4->matbench) (21.3)\n",
            "Requirement already satisfied: spglib>=1.9.9.44 in /usr/local/lib/python3.7/dist-packages (from pymatgen->xtal2png) (1.16.5)\n",
            "Requirement already satisfied: matplotlib>=1.5 in /usr/local/lib/python3.7/dist-packages (from pymatgen->xtal2png) (3.2.2)\n",
            "Requirement already satisfied: palettable>=3.1.1 in /usr/local/lib/python3.7/dist-packages (from pymatgen->xtal2png) (3.3.0)\n",
            "Requirement already satisfied: networkx>=2.2 in /usr/local/lib/python3.7/dist-packages (from pymatgen->xtal2png) (2.6.3)\n",
            "Requirement already satisfied: uncertainties>=3.1.4 in /usr/local/lib/python3.7/dist-packages (from pymatgen->xtal2png) (3.1.7)\n",
            "Requirement already satisfied: ruamel.yaml>=0.15.6 in /usr/local/lib/python3.7/dist-packages (from pymatgen->xtal2png) (0.17.21)\n",
            "Requirement already satisfied: kiwisolver>=1.0.1 in /usr/local/lib/python3.7/dist-packages (from matplotlib>=1.5->pymatgen->xtal2png) (1.4.3)\n",
            "Requirement already satisfied: pyparsing!=2.0.4,!=2.1.2,!=2.1.6,>=2.0.1 in /usr/local/lib/python3.7/dist-packages (from matplotlib>=1.5->pymatgen->xtal2png) (3.0.9)\n",
            "Requirement already satisfied: cycler>=0.10 in /usr/local/lib/python3.7/dist-packages (from matplotlib>=1.5->pymatgen->xtal2png) (0.11.0)\n",
            "Requirement already satisfied: tenacity>=6.2.0 in /usr/local/lib/python3.7/dist-packages (from plotly->xtal2png) (8.0.1)\n",
            "Requirement already satisfied: charset-normalizer~=2.0.0 in /usr/local/lib/python3.7/dist-packages (from requests>=2.26.0->matminer==0.7.4->matbench) (2.0.12)\n",
            "Requirement already satisfied: idna<4,>=2.5 in /usr/local/lib/python3.7/dist-packages (from requests>=2.26.0->matminer==0.7.4->matbench) (2.10)\n",
            "Requirement already satisfied: urllib3<1.27,>=1.21.1 in /usr/local/lib/python3.7/dist-packages (from requests>=2.26.0->matminer==0.7.4->matbench) (1.24.3)\n",
            "Requirement already satisfied: certifi>=2017.4.17 in /usr/local/lib/python3.7/dist-packages (from requests>=2.26.0->matminer==0.7.4->matbench) (2022.6.15)\n",
            "Requirement already satisfied: ruamel.yaml.clib>=0.2.6 in /usr/local/lib/python3.7/dist-packages (from ruamel.yaml>=0.15.6->pymatgen->xtal2png) (0.2.6)\n",
            "Requirement already satisfied: mpmath>=0.19 in /usr/local/lib/python3.7/dist-packages (from sympy>=1.8->matminer==0.7.4->matbench) (1.2.1)\n",
            "Requirement already satisfied: torch>=1.8.* in /usr/local/lib/python3.7/dist-packages (from pytorch-lightning) (1.11.0+cu113)\n",
            "Requirement already satisfied: fsspec[http]!=2021.06.0,>=2021.05.0 in /usr/local/lib/python3.7/dist-packages (from pytorch-lightning) (2022.5.0)\n",
            "Requirement already satisfied: protobuf<=3.20.1 in /usr/local/lib/python3.7/dist-packages (from pytorch-lightning) (3.17.3)\n",
            "Requirement already satisfied: tensorboard>=2.2.0 in /usr/local/lib/python3.7/dist-packages (from pytorch-lightning) (2.8.0)\n",
            "Requirement already satisfied: pyDeprecate>=0.3.1 in /usr/local/lib/python3.7/dist-packages (from pytorch-lightning) (0.3.2)\n",
            "Requirement already satisfied: torchmetrics>=0.4.1 in /usr/local/lib/python3.7/dist-packages (from pytorch-lightning) (0.9.1)\n",
            "Requirement already satisfied: PyYAML>=5.4 in /usr/local/lib/python3.7/dist-packages (from pytorch-lightning) (6.0)\n",
            "Requirement already satisfied: aiohttp in /usr/local/lib/python3.7/dist-packages (from fsspec[http]!=2021.06.0,>=2021.05.0->pytorch-lightning) (3.8.1)\n",
            "Requirement already satisfied: google-auth<3,>=1.6.3 in /usr/local/lib/python3.7/dist-packages (from tensorboard>=2.2.0->pytorch-lightning) (1.35.0)\n",
            "Requirement already satisfied: grpcio>=1.24.3 in /usr/local/lib/python3.7/dist-packages (from tensorboard>=2.2.0->pytorch-lightning) (1.46.3)\n",
            "Requirement already satisfied: setuptools>=41.0.0 in /usr/local/lib/python3.7/dist-packages (from tensorboard>=2.2.0->pytorch-lightning) (57.4.0)\n",
            "Requirement already satisfied: wheel>=0.26 in /usr/local/lib/python3.7/dist-packages (from tensorboard>=2.2.0->pytorch-lightning) (0.37.1)\n",
            "Requirement already satisfied: werkzeug>=0.11.15 in /usr/local/lib/python3.7/dist-packages (from tensorboard>=2.2.0->pytorch-lightning) (1.0.1)\n",
            "Requirement already satisfied: absl-py>=0.4 in /usr/local/lib/python3.7/dist-packages (from tensorboard>=2.2.0->pytorch-lightning) (1.1.0)\n",
            "Requirement already satisfied: google-auth-oauthlib<0.5,>=0.4.1 in /usr/local/lib/python3.7/dist-packages (from tensorboard>=2.2.0->pytorch-lightning) (0.4.6)\n",
            "Requirement already satisfied: tensorboard-plugin-wit>=1.6.0 in /usr/local/lib/python3.7/dist-packages (from tensorboard>=2.2.0->pytorch-lightning) (1.8.1)\n",
            "Requirement already satisfied: markdown>=2.6.8 in /usr/local/lib/python3.7/dist-packages (from tensorboard>=2.2.0->pytorch-lightning) (3.3.7)\n",
            "Requirement already satisfied: tensorboard-data-server<0.7.0,>=0.6.0 in /usr/local/lib/python3.7/dist-packages (from tensorboard>=2.2.0->pytorch-lightning) (0.6.1)\n",
            "Requirement already satisfied: cachetools<5.0,>=2.0.0 in /usr/local/lib/python3.7/dist-packages (from google-auth<3,>=1.6.3->tensorboard>=2.2.0->pytorch-lightning) (4.2.4)\n",
            "Requirement already satisfied: pyasn1-modules>=0.2.1 in /usr/local/lib/python3.7/dist-packages (from google-auth<3,>=1.6.3->tensorboard>=2.2.0->pytorch-lightning) (0.2.8)\n",
            "Requirement already satisfied: rsa<5,>=3.1.4 in /usr/local/lib/python3.7/dist-packages (from google-auth<3,>=1.6.3->tensorboard>=2.2.0->pytorch-lightning) (4.8)\n",
            "Requirement already satisfied: requests-oauthlib>=0.7.0 in /usr/local/lib/python3.7/dist-packages (from google-auth-oauthlib<0.5,>=0.4.1->tensorboard>=2.2.0->pytorch-lightning) (1.3.1)\n",
            "Requirement already satisfied: pyasn1<0.5.0,>=0.4.6 in /usr/local/lib/python3.7/dist-packages (from pyasn1-modules>=0.2.1->google-auth<3,>=1.6.3->tensorboard>=2.2.0->pytorch-lightning) (0.4.8)\n",
            "Requirement already satisfied: oauthlib>=3.0.0 in /usr/local/lib/python3.7/dist-packages (from requests-oauthlib>=0.7.0->google-auth-oauthlib<0.5,>=0.4.1->tensorboard>=2.2.0->pytorch-lightning) (3.2.0)\n",
            "Requirement already satisfied: multidict<7.0,>=4.5 in /usr/local/lib/python3.7/dist-packages (from aiohttp->fsspec[http]!=2021.06.0,>=2021.05.0->pytorch-lightning) (6.0.2)\n",
            "Requirement already satisfied: frozenlist>=1.1.1 in /usr/local/lib/python3.7/dist-packages (from aiohttp->fsspec[http]!=2021.06.0,>=2021.05.0->pytorch-lightning) (1.3.0)\n",
            "Requirement already satisfied: aiosignal>=1.1.2 in /usr/local/lib/python3.7/dist-packages (from aiohttp->fsspec[http]!=2021.06.0,>=2021.05.0->pytorch-lightning) (1.2.0)\n",
            "Requirement already satisfied: yarl<2.0,>=1.0 in /usr/local/lib/python3.7/dist-packages (from aiohttp->fsspec[http]!=2021.06.0,>=2021.05.0->pytorch-lightning) (1.7.2)\n",
            "Requirement already satisfied: async-timeout<5.0,>=4.0.0a3 in /usr/local/lib/python3.7/dist-packages (from aiohttp->fsspec[http]!=2021.06.0,>=2021.05.0->pytorch-lightning) (4.0.2)\n",
            "Requirement already satisfied: asynctest==0.13.0 in /usr/local/lib/python3.7/dist-packages (from aiohttp->fsspec[http]!=2021.06.0,>=2021.05.0->pytorch-lightning) (0.13.0)\n"
          ]
        }
      ],
      "source": [
        "%pip install skorch xtal2png matbench pytorch-lightning"
      ]
    },
    {
      "cell_type": "code",
      "execution_count": null,
      "metadata": {
        "colab": {
          "base_uri": "https://localhost:8080/"
        },
        "id": "_KGr6gwtV-NF",
        "outputId": "d3749066-9152-4f48-e08f-dd6078231c0f"
      },
      "outputs": [
        {
          "name": "stderr",
          "output_type": "stream",
          "text": [
            "Global seed set to 18012019\n"
          ]
        },
        {
          "data": {
            "text/plain": [
              "18012019"
            ]
          },
          "execution_count": 2,
          "metadata": {},
          "output_type": "execute_result"
        }
      ],
      "source": [
        "import numpy as np\n",
        "import pytorch_lightning as pl\n",
        "import torch\n",
        "import torch.optim as optim\n",
        "import torchvision.transforms as T\n",
        "import torchvision.transforms.functional as TF\n",
        "from matbench.bench import MatbenchBenchmark\n",
        "from skorch.callbacks import EarlyStopping\n",
        "from skorch.classifier import NeuralNetBinaryClassifier\n",
        "from torch import nn\n",
        "from xtal2png.core import XtalConverter\n",
        "\n",
        "# Set all random seeds as specified by Matbench\n",
        "pl.seed_everything(18012019)"
      ]
    },
    {
      "cell_type": "markdown",
      "metadata": {},
      "source": [
        "## Matbench Setup"
      ]
    },
    {
      "cell_type": "code",
      "execution_count": null,
      "metadata": {
        "colab": {
          "base_uri": "https://localhost:8080/"
        },
        "id": "13NGp50r1Ja9",
        "outputId": "e09f6495-4c5d-48f5-b02f-b8ddc2b19f93"
      },
      "outputs": [
        {
          "name": "stdout",
          "output_type": "stream",
          "text": [
            "2022-06-29 02:43:52 INFO     Initialized benchmark 'matbench_v0.1' with 1 tasks: \n",
            "['matbench_mp_is_metal']\n"
          ]
        }
      ],
      "source": [
        "mb = MatbenchBenchmark(autoload=False, subset=[\"matbench_mp_is_metal\"])"
      ]
    },
    {
      "cell_type": "markdown",
      "metadata": {},
      "source": [
        "## CNN Architecture"
      ]
    },
    {
      "cell_type": "markdown",
      "metadata": {
        "id": "ufYYcEVwAxQ3"
      },
      "source": [
        "Architecture of convolutional layers:\n",
        "```python\n",
        "        self.convolutions = nn.Sequential(\n",
        "            nn.Conv2d(1, 3, kernel_size=3, padding=1),      # (64, 64, 1) --> (64, 64, 3)\n",
        "            nn.BatchNorm2d(3),\n",
        "            nn.Mish(inplace=True),\n",
        "            nn.MaxPool2d(kernel_size=3, stride=2),          # (31, 31, 3)\n",
        "\n",
        "            nn.Conv2d(3, 8, kernel_size=3, padding=1),      # (31, 31, 8)\n",
        "            nn.BatchNorm2d(8),\n",
        "            nn.Mish(inplace=True),\n",
        "            nn.MaxPool2d(kernel_size=3, stride=2),          # (15, 15, 8)\n",
        "\n",
        "            nn.Conv2d(8, 16, kernel_size=3, padding=1),     # (15, 15, 16)\n",
        "            nn.BatchNorm2d(16),\n",
        "            nn.LeakyReLU(inplace=True),\n",
        "            nn.MaxPool2d(kernel_size=3, stride=2),          # (7, 7, 16)\n",
        "        )\n",
        "```"
      ]
    },
    {
      "cell_type": "code",
      "execution_count": null,
      "metadata": {
        "id": "wxIziopEuuoU"
      },
      "outputs": [],
      "source": [
        "class CNNClassifier(nn.Module):\n",
        "    def __init__(self, dropout: float = 0.5) -> None:\n",
        "        super().__init__()\n",
        "        self.convolutions = nn.Sequential(\n",
        "            nn.Conv2d(1, 3, kernel_size=3, padding=1),\n",
        "            nn.BatchNorm2d(3),\n",
        "            nn.Mish(inplace=True),\n",
        "            nn.MaxPool2d(kernel_size=3, stride=2),\n",
        "            nn.Conv2d(3, 8, kernel_size=3, padding=1),\n",
        "            nn.BatchNorm2d(8),\n",
        "            nn.Mish(inplace=True),\n",
        "            nn.MaxPool2d(kernel_size=3, stride=2),\n",
        "            nn.Conv2d(8, 16, kernel_size=3, padding=1),\n",
        "            nn.BatchNorm2d(16),\n",
        "            nn.LeakyReLU(inplace=True),\n",
        "            nn.MaxPool2d(kernel_size=3, stride=2),\n",
        "        )\n",
        "        self.fullyconnected = nn.Sequential(\n",
        "            nn.Linear(7 * 7 * 16, 512),\n",
        "            nn.Mish(inplace=True),\n",
        "            nn.Dropout(p=dropout),\n",
        "            nn.Linear(512, 256),\n",
        "            nn.Mish(inplace=True),\n",
        "            nn.Dropout(p=dropout),\n",
        "            nn.Linear(256, 256),\n",
        "            nn.LeakyReLU(inplace=True),\n",
        "            nn.Linear(256, 1),\n",
        "            # No need for sigmoid here if using BCEWithLogitsLoss\n",
        "        )\n",
        "\n",
        "    def forward(self, x: torch.Tensor) -> torch.Tensor:\n",
        "        x = self.convolutions(x)\n",
        "        x = torch.flatten(x, 1)  # flatten all but batch dim\n",
        "        x = self.fullyconnected(x)\n",
        "        return x\n"
      ]
    },
    {
      "cell_type": "markdown",
      "metadata": {},
      "source": [
        "## Matbench Folds"
      ]
    },
    {
      "cell_type": "code",
      "execution_count": null,
      "metadata": {
        "colab": {
          "base_uri": "https://localhost:8080/"
        },
        "id": "-Olab4NhtcEk",
        "outputId": "46a7f0be-81f2-42b1-fba9-2db07af37bc0"
      },
      "outputs": [
        {
          "name": "stdout",
          "output_type": "stream",
          "text": [
            "2022-06-29 01:37:33 INFO     Loading dataset 'matbench_mp_is_metal'...\n",
            "Fetching matbench_mp_is_metal.json.gz from https://ml.materialsproject.org/projects/matbench_mp_is_metal.json.gz to /usr/local/lib/python3.7/dist-packages/matminer/datasets/matbench_mp_is_metal.json.gz\n"
          ]
        },
        {
          "name": "stderr",
          "output_type": "stream",
          "text": [
            "Fetching https://ml.materialsproject.org/projects/matbench_mp_is_metal.json.gz in MB: 136.699904MB [00:00, 575.80MB/s]                                                \n"
          ]
        },
        {
          "name": "stdout",
          "output_type": "stream",
          "text": [
            "2022-06-29 01:40:31 INFO     Dataset 'matbench_mp_is_metal loaded.\n"
          ]
        },
        {
          "name": "stderr",
          "output_type": "stream",
          "text": [
            "100%|██████████| 71602/71602 [17:16<00:00, 69.07it/s]\n",
            "/usr/local/lib/python3.7/dist-packages/xtal2png/core.py:269: UserWarning: lower RGB value(s) OOB (-65 less than 0). thresholding to 0.. may throw off crystal structure parameters (e.g. if lattice parameters are thresholded)\n",
            "  f\"lower RGB value(s) OOB ({mn} less than 0). thresholding to 0.. may throw off crystal structure parameters (e.g. if lattice parameters are thresholded)\"  # noqa: E501\n",
            "/usr/local/lib/python3.7/dist-packages/xtal2png/core.py:275: UserWarning: upper RGB value(s) OOB (1317 greater than 255). thresholding to 255.. may throw off crystal structure parameters (e.g. if lattice parameters are thresholded)\n",
            "  f\"upper RGB value(s) OOB ({mx} greater than 255). thresholding to 255.. may throw off crystal structure parameters (e.g. if lattice parameters are thresholded)\"  # noqa: E501\n",
            "/usr/local/lib/python3.7/dist-packages/ipykernel_launcher.py:27: FutureWarning: The input object of type 'Tensor' is an array-like implementing one of the corresponding protocols (`__array__`, `__array_interface__` or `__array_struct__`); but not a sequence (or 0-D). In the future, this object will be coerced as if it was first converted using `np.array(obj)`. To retain the old behaviour, you have to either modify the type 'Tensor', or assign to an empty array created with `np.empty(correct_shape, dtype=object)`.\n",
            "/usr/local/lib/python3.7/dist-packages/ipykernel_launcher.py:27: VisibleDeprecationWarning: Creating an ndarray from ragged nested sequences (which is a list-or-tuple of lists-or-tuples-or ndarrays with different lengths or shapes) is deprecated. If you meant to do this, you must specify 'dtype=object' when creating the ndarray.\n"
          ]
        },
        {
          "name": "stdout",
          "output_type": "stream",
          "text": [
            "  epoch    train_loss    valid_acc    valid_loss      dur\n",
            "-------  ------------  -----------  ------------  -------\n",
            "      1        \u001b[36m0.6061\u001b[0m       \u001b[32m0.6330\u001b[0m        \u001b[35m0.6784\u001b[0m  19.4657\n",
            "      2        \u001b[36m0.5143\u001b[0m       0.6281        0.6843  18.3359\n",
            "      3        \u001b[36m0.4907\u001b[0m       \u001b[32m0.6410\u001b[0m        0.6852  18.0493\n",
            "      4        \u001b[36m0.4786\u001b[0m       \u001b[32m0.6467\u001b[0m        0.7220  18.0379\n",
            "      5        \u001b[36m0.4625\u001b[0m       0.6409        0.7409  17.8828\n",
            "      6        \u001b[36m0.4553\u001b[0m       \u001b[32m0.6495\u001b[0m        0.7136  18.3212\n",
            "      7        \u001b[36m0.4489\u001b[0m       \u001b[32m0.6513\u001b[0m        0.7080  17.9975\n",
            "      8        \u001b[36m0.4437\u001b[0m       \u001b[32m0.6554\u001b[0m        0.6954  18.1166\n",
            "      9        \u001b[36m0.4379\u001b[0m       \u001b[32m0.6573\u001b[0m        0.7202  17.8346\n",
            "     10        \u001b[36m0.4328\u001b[0m       \u001b[32m0.6578\u001b[0m        0.7154  17.6820\n",
            "Stopping since valid_loss has not improved in the last 10 epochs.\n"
          ]
        },
        {
          "name": "stderr",
          "output_type": "stream",
          "text": [
            "100%|██████████| 17925/17925 [04:20<00:00, 68.85it/s]\n",
            "/usr/local/lib/python3.7/dist-packages/xtal2png/core.py:269: UserWarning: lower RGB value(s) OOB (-91 less than 0). thresholding to 0.. may throw off crystal structure parameters (e.g. if lattice parameters are thresholded)\n",
            "  f\"lower RGB value(s) OOB ({mn} less than 0). thresholding to 0.. may throw off crystal structure parameters (e.g. if lattice parameters are thresholded)\"  # noqa: E501\n",
            "/usr/local/lib/python3.7/dist-packages/xtal2png/core.py:275: UserWarning: upper RGB value(s) OOB (995 greater than 255). thresholding to 255.. may throw off crystal structure parameters (e.g. if lattice parameters are thresholded)\n",
            "  f\"upper RGB value(s) OOB ({mx} greater than 255). thresholding to 255.. may throw off crystal structure parameters (e.g. if lattice parameters are thresholded)\"  # noqa: E501\n",
            "/usr/local/lib/python3.7/dist-packages/ipykernel_launcher.py:52: FutureWarning: The input object of type 'Tensor' is an array-like implementing one of the corresponding protocols (`__array__`, `__array_interface__` or `__array_struct__`); but not a sequence (or 0-D). In the future, this object will be coerced as if it was first converted using `np.array(obj)`. To retain the old behaviour, you have to either modify the type 'Tensor', or assign to an empty array created with `np.empty(correct_shape, dtype=object)`.\n",
            "/usr/local/lib/python3.7/dist-packages/ipykernel_launcher.py:52: VisibleDeprecationWarning: Creating an ndarray from ragged nested sequences (which is a list-or-tuple of lists-or-tuples-or ndarrays with different lengths or shapes) is deprecated. If you meant to do this, you must specify 'dtype=object' when creating the ndarray.\n"
          ]
        },
        {
          "name": "stdout",
          "output_type": "stream",
          "text": [
            "2022-06-29 02:06:56 INFO     Recorded fold matbench_mp_is_metal-0 successfully.\n"
          ]
        },
        {
          "name": "stderr",
          "output_type": "stream",
          "text": [
            "100%|██████████| 71644/71644 [17:25<00:00, 68.53it/s]\n"
          ]
        }
      ],
      "source": [
        "xc = XtalConverter()\n",
        "\n",
        "for task in mb.tasks:\n",
        "    task.load()\n",
        "    for fold in task.folds:\n",
        "        # Get training data\n",
        "        train_inputs, train_outputs = task.get_train_and_val_data(fold)\n",
        "\n",
        "        # Keep structures with num_sites <= 52\n",
        "        site_counter = lambda x: x.num_sites\n",
        "        idx = train_inputs.apply(site_counter) <= 52\n",
        "        X_train = train_inputs[idx]\n",
        "        y_train = train_outputs[idx]\n",
        "\n",
        "        # Convert crystal structures to images\n",
        "        X_train = xc.xtal2png(X_train)\n",
        "\n",
        "        # Convert PIL Images to torch.Tensor\n",
        "        # Note that this scales from [0, 255] to [0.0, 1.0]\n",
        "        X_train = [TF.to_tensor(img) for img in X_train]\n",
        "        # Normalize images (subtract mean, divide by std)\n",
        "        mean = torch.cat(X_train).mean()\n",
        "        std = torch.cat(X_train).std()\n",
        "        X_train = [TF.normalize(i, mean=mean, std=std) for i in X_train]\n",
        "\n",
        "        # Change lists to arrays and y_train dtype to float32 for skorch\n",
        "        X_train = np.array(X_train)\n",
        "        y_train = y_train.astype(np.float32)\n",
        "\n",
        "        # Train and validate classifier\n",
        "        net = NeuralNetBinaryClassifier(\n",
        "            CNNClassifier,\n",
        "            criterion=nn.BCEWithLogitsLoss,\n",
        "            max_epochs=50,\n",
        "            optimizer=optim.AdamW,\n",
        "            optimizer__amsgrad=True,\n",
        "            optimizer__lr=0.0005,\n",
        "            callbacks=[EarlyStopping(patience=10)],\n",
        "            device=\"cuda\" if torch.cuda.is_available() else \"cpu\",\n",
        "            batch_size=32,\n",
        "        )\n",
        "        net.fit(X_train, y_train)\n",
        "\n",
        "        # Get test data and keep structures with num_sites <= 52\n",
        "        test_inputs = task.get_test_data(fold)\n",
        "        idx = test_inputs.apply(site_counter) <= 52\n",
        "        X_test = test_inputs[idx]\n",
        "\n",
        "        # Convert to images, preprocess using mean and std from training data\n",
        "        X_test = xc.xtal2png(X_test)\n",
        "        preprocess = T.Compose([T.ToTensor(), T.Normalize(mean, std),])\n",
        "        X_test = np.array([preprocess(img) for img in X_test])\n",
        "\n",
        "        # Predict on X_test\n",
        "        # For structures with num_sites > 52, predict mode of y_train\n",
        "        y_pred = net.predict(X_test)\n",
        "        y_pred_full = np.empty(test_inputs.size)\n",
        "        y_pred_full[idx] = y_pred\n",
        "        y_pred_full[~idx] = y_train.mode().item()\n",
        "\n",
        "        # Record data\n",
        "        task.record(fold, y_pred_full)\n",
        "\n",
        "# Save results\n",
        "mb.to_file(\"my_models_benchmark.json.gz\")"
      ]
    }
  ],
  "metadata": {
    "accelerator": "GPU",
    "colab": {
      "collapsed_sections": [],
      "include_colab_link": true,
      "machine_shape": "hm",
      "name": "2.1-xtal2png-cnn-classification.ipynb",
      "provenance": []
    },
    "gpuClass": "standard",
    "kernelspec": {
      "display_name": "Python 3",
      "name": "python3"
    },
    "language_info": {
      "name": "python"
    }
  },
  "nbformat": 4,
  "nbformat_minor": 0
}
